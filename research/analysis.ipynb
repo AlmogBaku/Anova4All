{
 "cells": [
  {
   "cell_type": "code",
   "id": "initial_id",
   "metadata": {
    "collapsed": true,
    "ExecuteTime": {
     "end_time": "2024-09-20T18:15:52.145072Z",
     "start_time": "2024-09-20T18:15:44.950589Z"
    }
   },
   "source": "!pip install pandas",
   "outputs": [
    {
     "name": "stdout",
     "output_type": "stream",
     "text": [
      "Collecting pandas\r\n",
      "  Downloading pandas-2.2.3-cp311-cp311-macosx_11_0_arm64.whl.metadata (89 kB)\r\n",
      "Collecting numpy>=1.23.2 (from pandas)\r\n",
      "  Using cached numpy-2.1.1-cp311-cp311-macosx_14_0_arm64.whl.metadata (60 kB)\r\n",
      "Requirement already satisfied: python-dateutil>=2.8.2 in /Users/almogbaku/projects/AlmogBaku/anova4all/.venv/lib/python3.11/site-packages (from pandas) (2.9.0.post0)\r\n",
      "Collecting pytz>=2020.1 (from pandas)\r\n",
      "  Downloading pytz-2024.2-py2.py3-none-any.whl.metadata (22 kB)\r\n",
      "Collecting tzdata>=2022.7 (from pandas)\r\n",
      "  Using cached tzdata-2024.1-py2.py3-none-any.whl.metadata (1.4 kB)\r\n",
      "Requirement already satisfied: six>=1.5 in /Users/almogbaku/projects/AlmogBaku/anova4all/.venv/lib/python3.11/site-packages (from python-dateutil>=2.8.2->pandas) (1.16.0)\r\n",
      "Downloading pandas-2.2.3-cp311-cp311-macosx_11_0_arm64.whl (11.3 MB)\r\n",
      "\u001B[2K   \u001B[90m━━━━━━━━━━━━━━━━━━━━━━━━━━━━━━━━━━━━━━━━\u001B[0m \u001B[32m11.3/11.3 MB\u001B[0m \u001B[31m15.9 MB/s\u001B[0m eta \u001B[36m0:00:00\u001B[0m \u001B[36m0:00:01\u001B[0m\r\n",
      "\u001B[?25hUsing cached numpy-2.1.1-cp311-cp311-macosx_14_0_arm64.whl (5.4 MB)\r\n",
      "Downloading pytz-2024.2-py2.py3-none-any.whl (508 kB)\r\n",
      "Using cached tzdata-2024.1-py2.py3-none-any.whl (345 kB)\r\n",
      "Installing collected packages: pytz, tzdata, numpy, pandas\r\n",
      "Successfully installed numpy-2.1.1 pandas-2.2.3 pytz-2024.2 tzdata-2024.1\r\n"
     ]
    }
   ],
   "execution_count": 2
  },
  {
   "metadata": {
    "ExecuteTime": {
     "end_time": "2024-09-20T18:16:02.139611Z",
     "start_time": "2024-09-20T18:15:52.146284Z"
    }
   },
   "cell_type": "code",
   "source": "import pandas as pd",
   "id": "9086e24bcd3b8e71",
   "outputs": [],
   "execution_count": 3
  },
  {
   "metadata": {
    "ExecuteTime": {
     "end_time": "2024-09-20T18:16:02.151258Z",
     "start_time": "2024-09-20T18:16:02.140458Z"
    }
   },
   "cell_type": "code",
   "source": "df = pd.read_csv('anova_traffic999.csv')",
   "id": "583421ba4223d71a",
   "outputs": [],
   "execution_count": 4
  },
  {
   "metadata": {
    "ExecuteTime": {
     "end_time": "2024-09-20T18:17:36.339176Z",
     "start_time": "2024-09-20T18:17:36.333504Z"
    }
   },
   "cell_type": "code",
   "source": "df",
   "id": "bbe2b6aadee0c6b6",
   "outputs": [
    {
     "data": {
      "text/plain": [
       "       time_relative                        original_bytes  length  \\\n",
       "0           0.000000                6807e6d10b47aedc0da016       7   \n",
       "1           0.080787              6808e6d17b070e59641a1e16       8   \n",
       "2           0.080787              6808e6d17b070e59641a1e16       8   \n",
       "3           0.296800  680ee4950b4604dc65e880a356ad1c0d4616      14   \n",
       "4           0.384836                    68056ad07153a19f16       5   \n",
       "...              ...                                   ...     ...   \n",
       "12767    4208.750445                    68056ad07103a14f16       5   \n",
       "12768    4208.968644          680ae4950b46045d6ed2d168a416      10   \n",
       "12769    4210.754166                          6802c634fa16       2   \n",
       "12770    4210.754166                          6802c634fa16       2   \n",
       "12771    4210.972788        680be4950b46041d69da9593d02616      11   \n",
       "\n",
       "       checksum_ok  source        decoded  \n",
       "0             True  server         status  \n",
       "1             True  client        stopped  \n",
       "2             True  client        stopped  \n",
       "3             True  server  read set temp  \n",
       "4             True  client           54.5  \n",
       "...            ...     ...            ...  \n",
       "12767         True  client           54.0  \n",
       "12768         True  server      read unit  \n",
       "12769         True  client              c  \n",
       "12770         True  client              c  \n",
       "12771         True  server     read timer  \n",
       "\n",
       "[12772 rows x 6 columns]"
      ],
      "text/html": [
       "<div>\n",
       "<style scoped>\n",
       "    .dataframe tbody tr th:only-of-type {\n",
       "        vertical-align: middle;\n",
       "    }\n",
       "\n",
       "    .dataframe tbody tr th {\n",
       "        vertical-align: top;\n",
       "    }\n",
       "\n",
       "    .dataframe thead th {\n",
       "        text-align: right;\n",
       "    }\n",
       "</style>\n",
       "<table border=\"1\" class=\"dataframe\">\n",
       "  <thead>\n",
       "    <tr style=\"text-align: right;\">\n",
       "      <th></th>\n",
       "      <th>time_relative</th>\n",
       "      <th>original_bytes</th>\n",
       "      <th>length</th>\n",
       "      <th>checksum_ok</th>\n",
       "      <th>source</th>\n",
       "      <th>decoded</th>\n",
       "    </tr>\n",
       "  </thead>\n",
       "  <tbody>\n",
       "    <tr>\n",
       "      <th>0</th>\n",
       "      <td>0.000000</td>\n",
       "      <td>6807e6d10b47aedc0da016</td>\n",
       "      <td>7</td>\n",
       "      <td>True</td>\n",
       "      <td>server</td>\n",
       "      <td>status</td>\n",
       "    </tr>\n",
       "    <tr>\n",
       "      <th>1</th>\n",
       "      <td>0.080787</td>\n",
       "      <td>6808e6d17b070e59641a1e16</td>\n",
       "      <td>8</td>\n",
       "      <td>True</td>\n",
       "      <td>client</td>\n",
       "      <td>stopped</td>\n",
       "    </tr>\n",
       "    <tr>\n",
       "      <th>2</th>\n",
       "      <td>0.080787</td>\n",
       "      <td>6808e6d17b070e59641a1e16</td>\n",
       "      <td>8</td>\n",
       "      <td>True</td>\n",
       "      <td>client</td>\n",
       "      <td>stopped</td>\n",
       "    </tr>\n",
       "    <tr>\n",
       "      <th>3</th>\n",
       "      <td>0.296800</td>\n",
       "      <td>680ee4950b4604dc65e880a356ad1c0d4616</td>\n",
       "      <td>14</td>\n",
       "      <td>True</td>\n",
       "      <td>server</td>\n",
       "      <td>read set temp</td>\n",
       "    </tr>\n",
       "    <tr>\n",
       "      <th>4</th>\n",
       "      <td>0.384836</td>\n",
       "      <td>68056ad07153a19f16</td>\n",
       "      <td>5</td>\n",
       "      <td>True</td>\n",
       "      <td>client</td>\n",
       "      <td>54.5</td>\n",
       "    </tr>\n",
       "    <tr>\n",
       "      <th>...</th>\n",
       "      <td>...</td>\n",
       "      <td>...</td>\n",
       "      <td>...</td>\n",
       "      <td>...</td>\n",
       "      <td>...</td>\n",
       "      <td>...</td>\n",
       "    </tr>\n",
       "    <tr>\n",
       "      <th>12767</th>\n",
       "      <td>4208.750445</td>\n",
       "      <td>68056ad07103a14f16</td>\n",
       "      <td>5</td>\n",
       "      <td>True</td>\n",
       "      <td>client</td>\n",
       "      <td>54.0</td>\n",
       "    </tr>\n",
       "    <tr>\n",
       "      <th>12768</th>\n",
       "      <td>4208.968644</td>\n",
       "      <td>680ae4950b46045d6ed2d168a416</td>\n",
       "      <td>10</td>\n",
       "      <td>True</td>\n",
       "      <td>server</td>\n",
       "      <td>read unit</td>\n",
       "    </tr>\n",
       "    <tr>\n",
       "      <th>12769</th>\n",
       "      <td>4210.754166</td>\n",
       "      <td>6802c634fa16</td>\n",
       "      <td>2</td>\n",
       "      <td>True</td>\n",
       "      <td>client</td>\n",
       "      <td>c</td>\n",
       "    </tr>\n",
       "    <tr>\n",
       "      <th>12770</th>\n",
       "      <td>4210.754166</td>\n",
       "      <td>6802c634fa16</td>\n",
       "      <td>2</td>\n",
       "      <td>True</td>\n",
       "      <td>client</td>\n",
       "      <td>c</td>\n",
       "    </tr>\n",
       "    <tr>\n",
       "      <th>12771</th>\n",
       "      <td>4210.972788</td>\n",
       "      <td>680be4950b46041d69da9593d02616</td>\n",
       "      <td>11</td>\n",
       "      <td>True</td>\n",
       "      <td>server</td>\n",
       "      <td>read timer</td>\n",
       "    </tr>\n",
       "  </tbody>\n",
       "</table>\n",
       "<p>12772 rows × 6 columns</p>\n",
       "</div>"
      ]
     },
     "execution_count": 8,
     "metadata": {},
     "output_type": "execute_result"
    }
   ],
   "execution_count": 8
  },
  {
   "metadata": {
    "ExecuteTime": {
     "end_time": "2024-09-20T18:16:11.263246Z",
     "start_time": "2024-09-20T18:16:11.257831Z"
    }
   },
   "cell_type": "code",
   "source": "df['decoded'] = df['decoded'].str.strip()",
   "id": "a1e68055e36e57d0",
   "outputs": [],
   "execution_count": 5
  },
  {
   "metadata": {
    "ExecuteTime": {
     "end_time": "2024-09-20T18:21:39.311747Z",
     "start_time": "2024-09-20T18:21:39.297576Z"
    }
   },
   "cell_type": "code",
   "source": [
    "# unique values of decoded without numbers only of checksum true\n",
    "\n",
    "# remove digits\n",
    "ret = df[df['checksum_ok'] == True]['decoded'].str.replace('\\d+', '', regex=True).str.strip().unique() # noqa\n",
    "for i in ret:\n",
    "    # if the string is not number (int or float)\n",
    "    # if not i.replace('.','',1).isnumeric():\n",
    "    print(i)"
   ],
   "id": "9026b82a14d50554",
   "outputs": [
    {
     "name": "stdout",
     "output_type": "stream",
     "text": [
      "status\n",
      "stopped\n",
      "read set temp\n",
      ".\n",
      "read temp\n",
      "read unit\n",
      "c\n",
      "read timer\n",
      "speaker status\n",
      "speaker is on\n",
      "set timer\n",
      "\n",
      "set temp .\n",
      "get id card\n",
      "anova f-adc\n",
      "version\n",
      "ver ..\n",
      "get number\n",
      "abd\n",
      "set unit f\n",
      "f\n",
      "set unit c\n",
      "start\n",
      "stop time\n",
      "event ble time stop\n",
      "running\n",
      "user change parameter\n",
      "event change temp\n",
      "event stop\n",
      "event start\n",
      "status running . c\n",
      "event temp has reach\n",
      "start time\n",
      "event wifi time start\n",
      "event time finish\n",
      "event low water\n",
      "low water\n",
      "stop\n",
      "event wifi stop\n",
      "clear alarm\n",
      "event ble stop\n",
      "event ble start\n",
      "event ble change temp\n"
     ]
    }
   ],
   "execution_count": 22
  },
  {
   "metadata": {},
   "cell_type": "code",
   "outputs": [],
   "execution_count": null,
   "source": "",
   "id": "d71e68ab2c9f6a08"
  }
 ],
 "metadata": {
  "kernelspec": {
   "display_name": "Python 3",
   "language": "python",
   "name": "python3"
  },
  "language_info": {
   "codemirror_mode": {
    "name": "ipython",
    "version": 2
   },
   "file_extension": ".py",
   "mimetype": "text/x-python",
   "name": "python",
   "nbconvert_exporter": "python",
   "pygments_lexer": "ipython2",
   "version": "2.7.6"
  }
 },
 "nbformat": 4,
 "nbformat_minor": 5
}
